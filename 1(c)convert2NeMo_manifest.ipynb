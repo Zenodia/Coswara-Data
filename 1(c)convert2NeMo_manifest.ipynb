{
 "cells": [
  {
   "cell_type": "code",
   "execution_count": 1,
   "metadata": {},
   "outputs": [
    {
     "name": "stdout",
     "output_type": "stream",
     "text": [
      "{0: 'healthy', 1: 'resp_illness_not_identified', 2: 'no_resp_illness_exposed', 3: 'recovered_full', 4: 'positive_mild', 5: 'positive_asymp', 6: 'positive_moderate'}\n",
      "original number of records  1503\n",
      "1503\n"
     ]
    },
    {
     "data": {
      "text/plain": [
       "1503"
      ]
     },
     "execution_count": 1,
     "metadata": {},
     "output_type": "execute_result"
    }
   ],
   "source": [
    "import argparse\n",
    "import glob\n",
    "import json\n",
    "import logging\n",
    "import os\n",
    "import tarfile\n",
    "import urllib.request\n",
    "\n",
    "import librosa\n",
    "import numpy as np\n",
    "import soundfile as sf\n",
    "from sklearn.model_selection import train_test_split\n",
    "import pandas as pd\n",
    "import os\n",
    "import itertools  \n",
    "df=pd.read_csv('combined_data.csv')\n",
    "labels=df['covid_status'].unique()\n",
    "len(labels), labels\n",
    "l=len(labels)\n",
    "num2labels=dict([(k,v) for k,v in zip(range(l),labels)])\n",
    "print(num2labels)\n",
    "df['wav_path']=''\n",
    "root='/workspace/Coswara-Data/data/'\n",
    "folders=os.listdir(root)\n",
    "folders=[f for f in folders if f.startswith('2020')]\n",
    "ids=list(df['id'].values)\n",
    "covid_labels=list(df['covid_status'].values)\n",
    "wav_files_ls=[]\n",
    "for folder in folders:\n",
    "    cur_dir=root+folder+'/'\n",
    "    #print(cur_dir)\n",
    "    sub_folders=os.listdir(cur_dir)\n",
    "    subfolders=[subf for subf in sub_folders if subf in ids]\n",
    "    #print(subfolders)\n",
    "    templist=[ cur_dir+t+'/'+'cough-heavy.wav' for t in subfolders if os.path.exists(cur_dir+t+'/'+'cough-heavy.wav')]\n",
    "    wav_files_ls.append(templist)\n",
    "wav_files_ls = list(itertools.chain(*wav_files_ls))\n",
    "print(\"original number of records \",len(df))\n",
    "assert len(ids)==len(df)\n",
    "len(ids)\n",
    "## put the wav file path into the dataframe         \n",
    "\n",
    "for wav_fpath in wav_files_ls:\n",
    "    wav_fname=wav_fpath.split('/')[-2]\n",
    "    if wav_fname in ids:\n",
    "        k=ids.index(wav_fname)\n",
    "        df.iloc[k,-1]=wav_fpath\n",
    "#verify all wav files exist\n",
    "df2=df[~df['wav_path'].isnull()]\n",
    "print(len(df2))\n",
    "\n",
    "valid_cols=['id', 'a', 'covid_status','wav_path']\n",
    "df2=df2[valid_cols]\n",
    "labels2num=dict([(v,k) for (k,v) in num2labels.items()] )\n",
    "\n",
    "df2['covid_status'].unique()\n",
    "len(df2)"
   ]
  },
  {
   "cell_type": "code",
   "execution_count": 2,
   "metadata": {},
   "outputs": [],
   "source": [
    "del df"
   ]
  },
  {
   "cell_type": "code",
   "execution_count": 3,
   "metadata": {},
   "outputs": [
    {
     "data": {
      "text/plain": [
       "{'healthy': 0,\n",
       " 'resp_illness_not_identified': 1,\n",
       " 'no_resp_illness_exposed': 2,\n",
       " 'recovered_full': 3,\n",
       " 'positive_mild': 4,\n",
       " 'positive_asymp': 5,\n",
       " 'positive_moderate': 6}"
      ]
     },
     "execution_count": 3,
     "metadata": {},
     "output_type": "execute_result"
    }
   ],
   "source": [
    "labels2num"
   ]
  },
  {
   "cell_type": "code",
   "execution_count": null,
   "metadata": {},
   "outputs": [],
   "source": []
  },
  {
   "cell_type": "code",
   "execution_count": 4,
   "metadata": {},
   "outputs": [],
   "source": [
    "labels=list(df2['covid_status'].values)\n",
    "df2['covid_status'].replace(labels2num, inplace=True)\n",
    "df2['labels']=labels"
   ]
  },
  {
   "cell_type": "code",
   "execution_count": 5,
   "metadata": {},
   "outputs": [
    {
     "data": {
      "text/html": [
       "<div>\n",
       "<style scoped>\n",
       "    .dataframe tbody tr th:only-of-type {\n",
       "        vertical-align: middle;\n",
       "    }\n",
       "\n",
       "    .dataframe tbody tr th {\n",
       "        vertical-align: top;\n",
       "    }\n",
       "\n",
       "    .dataframe thead th {\n",
       "        text-align: right;\n",
       "    }\n",
       "</style>\n",
       "<table border=\"1\" class=\"dataframe\">\n",
       "  <thead>\n",
       "    <tr style=\"text-align: right;\">\n",
       "      <th></th>\n",
       "      <th>id</th>\n",
       "      <th>a</th>\n",
       "      <th>covid_status</th>\n",
       "      <th>wav_path</th>\n",
       "      <th>labels</th>\n",
       "    </tr>\n",
       "  </thead>\n",
       "  <tbody>\n",
       "    <tr>\n",
       "      <th>0</th>\n",
       "      <td>DRBAZX64nuVtqBQf13gH7r36Mh52</td>\n",
       "      <td>26</td>\n",
       "      <td>0</td>\n",
       "      <td>/workspace/Coswara-Data/data/20200430/DRBAZX64...</td>\n",
       "      <td>healthy</td>\n",
       "    </tr>\n",
       "    <tr>\n",
       "      <th>1</th>\n",
       "      <td>Jw7YMfwGqMX22UbHh1TTgYMTYWs1</td>\n",
       "      <td>16</td>\n",
       "      <td>0</td>\n",
       "      <td>/workspace/Coswara-Data/data/20200430/Jw7YMfwG...</td>\n",
       "      <td>healthy</td>\n",
       "    </tr>\n",
       "    <tr>\n",
       "      <th>2</th>\n",
       "      <td>xa2v8z3Yzgb9dFrq2gEZz6oS7fh1</td>\n",
       "      <td>26</td>\n",
       "      <td>1</td>\n",
       "      <td>/workspace/Coswara-Data/data/20200430/xa2v8z3Y...</td>\n",
       "      <td>resp_illness_not_identified</td>\n",
       "    </tr>\n",
       "    <tr>\n",
       "      <th>3</th>\n",
       "      <td>xwHQrG0KwjTLJvBYVtVXfHp4JAd2</td>\n",
       "      <td>32</td>\n",
       "      <td>1</td>\n",
       "      <td>/workspace/Coswara-Data/data/20200430/xwHQrG0K...</td>\n",
       "      <td>resp_illness_not_identified</td>\n",
       "    </tr>\n",
       "    <tr>\n",
       "      <th>4</th>\n",
       "      <td>xKW2EpGmJcfigLecUTLVXEWQHPg2</td>\n",
       "      <td>22</td>\n",
       "      <td>0</td>\n",
       "      <td>/workspace/Coswara-Data/data/20200430/xKW2EpGm...</td>\n",
       "      <td>healthy</td>\n",
       "    </tr>\n",
       "  </tbody>\n",
       "</table>\n",
       "</div>"
      ],
      "text/plain": [
       "                             id   a  covid_status  \\\n",
       "0  DRBAZX64nuVtqBQf13gH7r36Mh52  26             0   \n",
       "1  Jw7YMfwGqMX22UbHh1TTgYMTYWs1  16             0   \n",
       "2  xa2v8z3Yzgb9dFrq2gEZz6oS7fh1  26             1   \n",
       "3  xwHQrG0KwjTLJvBYVtVXfHp4JAd2  32             1   \n",
       "4  xKW2EpGmJcfigLecUTLVXEWQHPg2  22             0   \n",
       "\n",
       "                                            wav_path  \\\n",
       "0  /workspace/Coswara-Data/data/20200430/DRBAZX64...   \n",
       "1  /workspace/Coswara-Data/data/20200430/Jw7YMfwG...   \n",
       "2  /workspace/Coswara-Data/data/20200430/xa2v8z3Y...   \n",
       "3  /workspace/Coswara-Data/data/20200430/xwHQrG0K...   \n",
       "4  /workspace/Coswara-Data/data/20200430/xKW2EpGm...   \n",
       "\n",
       "                        labels  \n",
       "0                      healthy  \n",
       "1                      healthy  \n",
       "2  resp_illness_not_identified  \n",
       "3  resp_illness_not_identified  \n",
       "4                      healthy  "
      ]
     },
     "execution_count": 5,
     "metadata": {},
     "output_type": "execute_result"
    }
   ],
   "source": [
    "df2.head()"
   ]
  },
  {
   "cell_type": "code",
   "execution_count": 6,
   "metadata": {},
   "outputs": [],
   "source": [
    "labels2binary = {0:'0', 1: '0', 2: '0', 3:'1', 4:'1',5:'1',6:'1'}\n",
    "binary_label=df2.replace({\"covid_status\": labels2binary},)\n"
   ]
  },
  {
   "cell_type": "code",
   "execution_count": 7,
   "metadata": {},
   "outputs": [],
   "source": [
    "assert len(binary_label)==len(df2)"
   ]
  },
  {
   "cell_type": "code",
   "execution_count": 8,
   "metadata": {},
   "outputs": [
    {
     "data": {
      "text/html": [
       "<div>\n",
       "<style scoped>\n",
       "    .dataframe tbody tr th:only-of-type {\n",
       "        vertical-align: middle;\n",
       "    }\n",
       "\n",
       "    .dataframe tbody tr th {\n",
       "        vertical-align: top;\n",
       "    }\n",
       "\n",
       "    .dataframe thead th {\n",
       "        text-align: right;\n",
       "    }\n",
       "</style>\n",
       "<table border=\"1\" class=\"dataframe\">\n",
       "  <thead>\n",
       "    <tr style=\"text-align: right;\">\n",
       "      <th></th>\n",
       "      <th>id</th>\n",
       "      <th>a</th>\n",
       "      <th>covid_status</th>\n",
       "      <th>wav_path</th>\n",
       "      <th>labels</th>\n",
       "      <th>binary_label</th>\n",
       "    </tr>\n",
       "  </thead>\n",
       "  <tbody>\n",
       "    <tr>\n",
       "      <th>0</th>\n",
       "      <td>DRBAZX64nuVtqBQf13gH7r36Mh52</td>\n",
       "      <td>26</td>\n",
       "      <td>0</td>\n",
       "      <td>/workspace/Coswara-Data/data/20200430/DRBAZX64...</td>\n",
       "      <td>healthy</td>\n",
       "      <td>0</td>\n",
       "    </tr>\n",
       "    <tr>\n",
       "      <th>1</th>\n",
       "      <td>Jw7YMfwGqMX22UbHh1TTgYMTYWs1</td>\n",
       "      <td>16</td>\n",
       "      <td>0</td>\n",
       "      <td>/workspace/Coswara-Data/data/20200430/Jw7YMfwG...</td>\n",
       "      <td>healthy</td>\n",
       "      <td>0</td>\n",
       "    </tr>\n",
       "    <tr>\n",
       "      <th>2</th>\n",
       "      <td>xa2v8z3Yzgb9dFrq2gEZz6oS7fh1</td>\n",
       "      <td>26</td>\n",
       "      <td>1</td>\n",
       "      <td>/workspace/Coswara-Data/data/20200430/xa2v8z3Y...</td>\n",
       "      <td>resp_illness_not_identified</td>\n",
       "      <td>0</td>\n",
       "    </tr>\n",
       "    <tr>\n",
       "      <th>3</th>\n",
       "      <td>xwHQrG0KwjTLJvBYVtVXfHp4JAd2</td>\n",
       "      <td>32</td>\n",
       "      <td>1</td>\n",
       "      <td>/workspace/Coswara-Data/data/20200430/xwHQrG0K...</td>\n",
       "      <td>resp_illness_not_identified</td>\n",
       "      <td>0</td>\n",
       "    </tr>\n",
       "    <tr>\n",
       "      <th>4</th>\n",
       "      <td>xKW2EpGmJcfigLecUTLVXEWQHPg2</td>\n",
       "      <td>22</td>\n",
       "      <td>0</td>\n",
       "      <td>/workspace/Coswara-Data/data/20200430/xKW2EpGm...</td>\n",
       "      <td>healthy</td>\n",
       "      <td>0</td>\n",
       "    </tr>\n",
       "  </tbody>\n",
       "</table>\n",
       "</div>"
      ],
      "text/plain": [
       "                             id   a  covid_status  \\\n",
       "0  DRBAZX64nuVtqBQf13gH7r36Mh52  26             0   \n",
       "1  Jw7YMfwGqMX22UbHh1TTgYMTYWs1  16             0   \n",
       "2  xa2v8z3Yzgb9dFrq2gEZz6oS7fh1  26             1   \n",
       "3  xwHQrG0KwjTLJvBYVtVXfHp4JAd2  32             1   \n",
       "4  xKW2EpGmJcfigLecUTLVXEWQHPg2  22             0   \n",
       "\n",
       "                                            wav_path  \\\n",
       "0  /workspace/Coswara-Data/data/20200430/DRBAZX64...   \n",
       "1  /workspace/Coswara-Data/data/20200430/Jw7YMfwG...   \n",
       "2  /workspace/Coswara-Data/data/20200430/xa2v8z3Y...   \n",
       "3  /workspace/Coswara-Data/data/20200430/xwHQrG0K...   \n",
       "4  /workspace/Coswara-Data/data/20200430/xKW2EpGm...   \n",
       "\n",
       "                        labels binary_label  \n",
       "0                      healthy            0  \n",
       "1                      healthy            0  \n",
       "2  resp_illness_not_identified            0  \n",
       "3  resp_illness_not_identified            0  \n",
       "4                      healthy            0  "
      ]
     },
     "execution_count": 8,
     "metadata": {},
     "output_type": "execute_result"
    }
   ],
   "source": [
    "df2['binary_label']=binary_label.covid_status\n",
    "df2.head()"
   ]
  },
  {
   "cell_type": "code",
   "execution_count": 9,
   "metadata": {},
   "outputs": [],
   "source": [
    "del binary_label"
   ]
  },
  {
   "cell_type": "code",
   "execution_count": 10,
   "metadata": {},
   "outputs": [],
   "source": [
    "def check_label_correctly(txt,b,a,labels2num,labels2binary, index):\n",
    "    if labels2num[txt]==b and labels2binary[b]==a:\n",
    "        pass\n",
    "    else:\n",
    "        print(\"index, label :{} , num_label:{} shirnk to binary:{}\".format(str(index),txt,str(b),str(a)))\n",
    "idx=0\n",
    "for txt,before,after in zip(df2['labels'],df2['covid_status'],df2['binary_label']):\n",
    "    check_label_correctly(txt,before,after,labels2num,labels2binary, idx)\n",
    "    idx+=1\n"
   ]
  },
  {
   "cell_type": "code",
   "execution_count": 11,
   "metadata": {},
   "outputs": [
    {
     "data": {
      "text/plain": [
       "(numpy.ndarray, numpy.ndarray)"
      ]
     },
     "execution_count": 11,
     "metadata": {},
     "output_type": "execute_result"
    }
   ],
   "source": [
    "keep_column=['wav_path', 'labels', 'binary_label']\n",
    "X=df2[keep_column[:-1]].values\n",
    "y=df2['binary_label'].values\n",
    "type(X),type(y)"
   ]
  },
  {
   "cell_type": "code",
   "execution_count": 12,
   "metadata": {},
   "outputs": [
    {
     "name": "stdout",
     "output_type": "stream",
     "text": [
      "['/workspace/Coswara-Data/data/20200430/DRBAZX64nuVtqBQf13gH7r36Mh52/cough-heavy.wav'\n",
      " 'healthy']\n"
     ]
    }
   ],
   "source": [
    "for file in X:\n",
    "    if file[1]=='healthy':\n",
    "        print(file)\n",
    "        break"
   ]
  },
  {
   "cell_type": "code",
   "execution_count": 23,
   "metadata": {},
   "outputs": [
    {
     "data": {
      "text/plain": [
       "((1202, 2), (301, 2), (1202,), (301,))"
      ]
     },
     "execution_count": 23,
     "metadata": {},
     "output_type": "execute_result"
    }
   ],
   "source": [
    "X_train, X_test, y_train, y_test =train_test_split(X,y, test_size=0.2, random_state=1,stratify=y)\n",
    "X_train.shape, X_test.shape, y_train.shape,y_test.shape"
   ]
  },
  {
   "cell_type": "code",
   "execution_count": 24,
   "metadata": {},
   "outputs": [
    {
     "data": {
      "text/plain": [
       "{'healthy': 'healthy',\n",
       " 'resp_illness_not_identified': 'healthy',\n",
       " 'no_resp_illness_exposed': 'healthy',\n",
       " 'recovered_full': 'covid_positive',\n",
       " 'positive_mild': 'covid_positive',\n",
       " 'positive_asymp': 'covid_positive',\n",
       " 'positive_moderate': 'covid_positive'}"
      ]
     },
     "execution_count": 24,
     "metadata": {},
     "output_type": "execute_result"
    }
   ],
   "source": [
    "txtlabels2binary={'healthy': 'healthy',\n",
    " 'resp_illness_not_identified': 'healthy',\n",
    " 'no_resp_illness_exposed': 'healthy',\n",
    " 'recovered_full': 'covid_positive',\n",
    " 'positive_mild': 'covid_positive',\n",
    " 'positive_asymp': 'covid_positive',\n",
    " 'positive_moderate': 'covid_positive'}\n",
    "txtlabels2binary"
   ]
  },
  {
   "cell_type": "code",
   "execution_count": null,
   "metadata": {},
   "outputs": [],
   "source": [
    "#sox disturbence.wav -r 16000 -c 1 -b 16 disturbence_16000_mono_16bit.wav"
   ]
  },
  {
   "cell_type": "code",
   "execution_count": 31,
   "metadata": {},
   "outputs": [],
   "source": [
    "import argparse\n",
    "import glob\n",
    "import json\n",
    "import logging\n",
    "import os\n",
    "import tarfile\n",
    "import librosa\n",
    "import numpy as np\n",
    "import re\n",
    "in_wav='/workspace/Coswara-Data/data/20200430/DRBAZX64nuVtqBQf13gH7r36Mh52/cough-heavy.wav'\n",
    "def change_audio_sampling_rate(in_wav, do_train=True):\n",
    "    in_wav_pathsub='_'.join(in_wav.split('/')[4:-1])\n",
    "    if do_train:\n",
    "        out_path='/workspace/NeMo/dataset/train/'\n",
    "    else:\n",
    "        out_path='/workspace/NeMo/dataset/test/'\n",
    "    in_wav_name=in_wav.split('/')[-1].split('.')[0]\n",
    "    out_wav_path=out_path+in_wav_pathsub+in_wav_name+'_16000_mono_16bit.wav'\n",
    "    os.system(\"sox {} -r 16000 -c 1 -b 16 {}\".format(in_wav,out_wav_path))\n",
    "    return out_wav_path\n"
   ]
  },
  {
   "cell_type": "code",
   "execution_count": 26,
   "metadata": {},
   "outputs": [
    {
     "data": {
      "text/plain": [
       "array(['/workspace/Coswara-Data/data/20200430/DRBAZX64nuVtqBQf13gH7r36Mh52/cough-heavy.wav',\n",
       "       'healthy'], dtype=object)"
      ]
     },
     "execution_count": 26,
     "metadata": {},
     "output_type": "execute_result"
    }
   ],
   "source": [
    "X[0]"
   ]
  },
  {
   "cell_type": "code",
   "execution_count": 33,
   "metadata": {},
   "outputs": [
    {
     "name": "stdout",
     "output_type": "stream",
     "text": [
      "finished creating manifest file : test_txtLabels.json\n"
     ]
    }
   ],
   "source": [
    "\n",
    "def make_manifest(manifest_name,X,Y, y_num=False, do_train=True):\n",
    "    out_dir='/workspace/NeMo/dataset'    \n",
    "    sr = 16000\n",
    "    start=0.0\n",
    "    end=None\n",
    "    duration_stride=1.0\n",
    "    duration_max = 1e9\n",
    "    duration_limit=100.0\n",
    "    filter_long=False\n",
    "    seg_num = 0\n",
    "    skip_num = 0\n",
    "    if not os.path.exists(out_dir):\n",
    "        logging.info(f'Outdir {out_dir} does not exist. Creat directory.')\n",
    "        os.mkdir(out_dir)\n",
    "    output_path = os.path.join(out_dir, manifest_name + '.json')\n",
    "    with open(output_path, 'w') as fout:\n",
    "        for x,y in zip(X,Y):\n",
    "            file=change_audio_sampling_rate(x[0], do_train)\n",
    "            if y_num:\n",
    "                label=y\n",
    "            else:\n",
    "                label=txtlabels2binary[x[1]]\n",
    "            try:\n",
    "                x, _sr = librosa.load(file, sr=sr)\n",
    "                duration = librosa.get_duration(x, sr=sr)\n",
    "                #print(x.shape,_sr,duration)\n",
    "\n",
    "            except Exception:\n",
    "                continue       \n",
    "\n",
    "            \n",
    "            metadata = {\n",
    "                        'audio_filepath': file,\n",
    "                        'duration': duration,\n",
    "                        'label': label,\n",
    "                        'text': '_',  # for compatibility with ASRAudioText\n",
    "                        }\n",
    "            data=json.dump(metadata,fout)            \n",
    "            fout.write('\\n')\n",
    "            fout.flush()\n",
    "    print(\"finished creating manifest file :\", manifest_name+'.json')\n",
    "#manifest_name='train_numLabels'\n",
    "#manifest_name='train_txtLabels'\n",
    "do_train=False\n",
    "#manifest_name='test_numLabels'\n",
    "manifest_name='test_txtLabels'\n",
    "make_manifest(manifest_name,X_test,y_test,False, do_train)"
   ]
  },
  {
   "cell_type": "code",
   "execution_count": null,
   "metadata": {},
   "outputs": [],
   "source": []
  }
 ],
 "metadata": {
  "kernelspec": {
   "display_name": "Python 3",
   "language": "python",
   "name": "python3"
  },
  "language_info": {
   "codemirror_mode": {
    "name": "ipython",
    "version": 3
   },
   "file_extension": ".py",
   "mimetype": "text/x-python",
   "name": "python",
   "nbconvert_exporter": "python",
   "pygments_lexer": "ipython3",
   "version": "3.6.10"
  }
 },
 "nbformat": 4,
 "nbformat_minor": 4
}
