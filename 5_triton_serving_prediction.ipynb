{
 "cells": [
  {
   "cell_type": "markdown",
   "metadata": {},
   "source": [
    "```\n",
    "The MIT License (MIT)\n",
    "\n",
    "Copyright (c) 2020 NVIDIA\n",
    "\n",
    "Permission is hereby granted, free of charge, to any person obtaining a copy of\n",
    "this software and associated documentation files (the \"Software\"), to deal in\n",
    "the Software without restriction, including without limitation the rights to\n",
    "use, copy, modify, merge, publish, distribute, sublicense, and/or sell copies of\n",
    "the Software, and to permit persons to whom the Software is furnished to do so,\n",
    "subject to the following conditions:\n",
    "\n",
    "The above copyright notice and this permission notice shall be included in all\n",
    "copies or substantial portions of the Software.\n",
    "\n",
    "THE SOFTWARE IS PROVIDED \"AS IS\", WITHOUT WARRANTY OF ANY KIND, EXPRESS OR\n",
    "IMPLIED, INCLUDING BUT NOT LIMITED TO THE WARRANTIES OF MERCHANTABILITY, FITNESS\n",
    "FOR A PARTICULAR PURPOSE AND NONINFRINGEMENT. IN NO EVENT SHALL THE AUTHORS OR\n",
    "COPYRIGHT HOLDERS BE LIABLE FOR ANY CLAIM, DAMAGES OR OTHER LIABILITY, WHETHER\n",
    "IN AN ACTION OF CONTRACT, TORT OR OTHERWISE, ARISING FROM, OUT OF OR IN\n",
    "CONNECTION WITH THE SOFTWARE OR THE USE OR OTHER DEALINGS IN THE SOFTWARE.\n",
    "\n",
    "```"
   ]
  },
  {
   "cell_type": "markdown",
   "metadata": {},
   "source": [
    "# Interacting with TRITON Inference Server\n",
    "\n",
    "Walthrough a generic pipeline for:\n",
    "- Using client libraries to run inference on models on TRITON sever\n",
    "- Modifying model configs\n",
    "\n",
    "#### Environment\n",
    "**1 - Client**\n",
    "All steps executed using **NGC Pytorch Docker (v 20.06)**\n",
    "* TRITON Client libraries installed within container\n",
    "\n",
    "**2 - Server**\n",
    "using **NGC tritonserver Docker (20.06-v1)**"
   ]
  },
  {
   "cell_type": "markdown",
   "metadata": {},
   "source": [
    "![TRITON Workflow](./NB_images/TRITON_image.png)"
   ]
  },
  {
   "cell_type": "markdown",
   "metadata": {},
   "source": [
    "--------------------------------------------------------------------------------------------------------------------------------------------------------------\n",
    "### ----------    Triton serving for our **first model** which we trained with 1a_triton_server_own_model.ipynb    ----------"
   ]
  },
  {
   "cell_type": "code",
   "execution_count": 5,
   "metadata": {},
   "outputs": [],
   "source": [
    "import argparse\n",
    "import numpy as np\n",
    "import os\n",
    "import json\n",
    "from builtins import range\n",
    "import tensorrtserver.api.model_config_pb2 as model_config\n",
    "from tensorrtserver.api import *\n",
    "import os\n",
    "#os.makedirs('./model_repo/covid_plan/1/',exist_ok=True)\n",
    "os.makedirs('./model_repo/covid_onnx/1/',exist_ok=True)"
   ]
  },
  {
   "cell_type": "code",
   "execution_count": 2,
   "metadata": {},
   "outputs": [
    {
     "name": "stdout",
     "output_type": "stream",
     "text": [
      "Overwriting engine.py\n"
     ]
    }
   ],
   "source": [
    "%%writefile engine.py \n",
    "import tensorrt as trt\n",
    "import pycuda.autoinit\n",
    "\n",
    "TRT_LOGGER = trt.Logger(trt.Logger.WARNING)\n",
    "trt_runtime = trt.Runtime(TRT_LOGGER)\n",
    "def build_engine(onnx_path, shape = [1,1,32000]):\n",
    "\n",
    "    \"\"\"\n",
    "    This is the function to create the TensorRT engine\n",
    "    Args:\n",
    "      onnx_path : Path to onnx_file. \n",
    "      shape : Shape of the input of the ONNX file. \n",
    "    \"\"\"\n",
    "    with trt.Builder(TRT_LOGGER) as builder, builder.create_network(1) as network, trt.OnnxParser(network, TRT_LOGGER) as parser:\n",
    "        builder.max_workspace_size = (256 << 20)\n",
    "        with open(onnx_path, 'rb') as model:\n",
    "            parser.parse(model.read())\n",
    "        network.get_input(0).shape = shape\n",
    "        engine = builder.build_cuda_engine(network)\n",
    "        return engine\n",
    "\n",
    "def save_engine(engine, file_name):\n",
    "    buf = engine.serialize()\n",
    "    with open(file_name, 'wb') as f:\n",
    "        f.write(buf)\n",
    "def load_engine(trt_runtime, engine_path):\n",
    "    with open(engine_path, 'rb') as f:\n",
    "        engine_data = f.read()\n",
    "    engine = trt_runtime.deserialize_cuda_engine(engine_data)\n",
    "    return engine\n",
    "\n",
    "def inspect_engine(engine):\n",
    "    profile_meta = {}\n",
    "    num_bindings_per_profile = engine.num_bindings // engine.num_optimization_profiles\n",
    "    for profile_index in range(engine.num_optimization_profiles):\n",
    "        start_binding = profile_index * num_bindings_per_profile\n",
    "        end_binding = start_binding + num_bindings_per_profile\n",
    "        \n",
    "        binding_meta = {}\n",
    "        for binding_index in range(start_binding, end_binding):\n",
    "            key = \"Binding {}\".format(binding_index)\n",
    "            binding_meta[key] = {\n",
    "                \"profile\": profile_index,\n",
    "                \"binding_index\": binding_index,\n",
    "                \"binding_shape\": engine.get_binding_shape(binding_index),\n",
    "                \"binding_dtype\": engine.get_binding_dtype(binding_index),\n",
    "                \"binding_name\": engine.get_binding_name(binding_index),\n",
    "            }\n",
    "\n",
    "            if engine.binding_is_input(binding_index):\n",
    "                binding_meta[key][\"binding_type\"] = \"INPUT\"\n",
    "                binding_meta[key][\"profile_shape\"] = engine.get_profile_shape(profile_index, binding_index)\n",
    "            else:\n",
    "                binding_meta[key][\"binding_type\"] = \"OUTPUT\"\n",
    "\n",
    "        profile_meta[\"Profile {}\".format(profile_index)] = binding_meta\n",
    "\n",
    "    from pprint import pprint\n",
    "    pprint(profile_meta)"
   ]
  },
  {
   "cell_type": "code",
   "execution_count": 8,
   "metadata": {},
   "outputs": [
    {
     "data": {
      "text/plain": [
       "['model.plan',\n",
       " 'covid.engine',\n",
       " 'relabelled_covid.onnx',\n",
       " 'convid.pt',\n",
       " 'covid_fp16.engine',\n",
       " 'relabelled_convid.pt',\n",
       " '.ipynb_checkpoints']"
      ]
     },
     "execution_count": 8,
     "metadata": {},
     "output_type": "execute_result"
    }
   ],
   "source": [
    "os.listdir('./saved_model')"
   ]
  },
  {
   "cell_type": "code",
   "execution_count": 2,
   "metadata": {},
   "outputs": [],
   "source": [
    "import engine as eng\n",
    "import argparse\n",
    "from onnx import ModelProto \n",
    "import tensorrt as trt\n",
    "\n",
    "engine_name = \"./saved_model/model.plan\"\n",
    "onnx_path = \"./saved_model/relabelled_covid.onnx\"\n",
    "batch_size = 1 \n",
    "\n",
    "TRT_LOGGER = trt.Logger(trt.Logger.WARNING)\n",
    "trt_runtime = trt.Runtime(TRT_LOGGER)\n",
    "\n",
    "model = ModelProto()\n",
    "with open(onnx_path, \"rb\") as f:\n",
    "    model.ParseFromString(f.read())\n",
    "\n",
    "d0 = model.graph.input[0].type.tensor_type.shape.dim[1].dim_value\n",
    "d1 = model.graph.input[0].type.tensor_type.shape.dim[2].dim_value\n",
    "\n",
    "shape = [batch_size , d0, d1]\n",
    "engine = eng.build_engine(onnx_path, shape= shape)\n",
    "eng.save_engine(engine, engine_name)"
   ]
  },
  {
   "cell_type": "code",
   "execution_count": 7,
   "metadata": {},
   "outputs": [
    {
     "data": {
      "text/plain": [
       "[]"
      ]
     },
     "execution_count": 7,
     "metadata": {},
     "output_type": "execute_result"
    }
   ],
   "source": [
    "import os\n",
    "os.makedirs('./model_repo/covid_plan/', exist_ok=True)\n",
    "os.makedirs('./model_repo/covid_plan/1/', exist_ok=True)\n",
    "os.listdir('./model_repo/covid_plan/1/')"
   ]
  },
  {
   "cell_type": "code",
   "execution_count": 9,
   "metadata": {},
   "outputs": [],
   "source": [
    "!mv ./saved_model/model.plan ./model_repo/covid_plan/1/model.plan"
   ]
  },
  {
   "cell_type": "code",
   "execution_count": 22,
   "metadata": {},
   "outputs": [
    {
     "name": "stdout",
     "output_type": "stream",
     "text": [
      "1  config.pbtxt  label.txt  labels.txt\n"
     ]
    }
   ],
   "source": [
    "!ls ./empty_dir/covid_plan/"
   ]
  },
  {
   "cell_type": "code",
   "execution_count": 10,
   "metadata": {},
   "outputs": [
    {
     "name": "stdout",
     "output_type": "stream",
     "text": [
      "Writing ./model_repo/covid_plan/label.txt\n"
     ]
    }
   ],
   "source": [
    "%%writefile ./model_repo/covid_plan/label.txt \n",
    "healthy\n",
    "unknow_rep_illness\n",
    "covid_positive"
   ]
  },
  {
   "cell_type": "code",
   "execution_count": 11,
   "metadata": {},
   "outputs": [
    {
     "name": "stdout",
     "output_type": "stream",
     "text": [
      "Writing ./model_repo/covid_plan/config.pbtxt\n"
     ]
    }
   ],
   "source": [
    "%%writefile ./model_repo/covid_plan/config.pbtxt\n",
    "name: \"covid_plan\"\n",
    "platform: \"tensorrt_plan\"\n",
    "max_batch_size : 1\n",
    "input [\n",
    "  {\n",
    "    name: \"input\"\n",
    "    data_type: TYPE_FP32\n",
    "    format: FORMAT_NCHW\n",
    "    dims: [ 1,1,32000 ]    \n",
    "  }\n",
    "]\n",
    "output [\n",
    "  {\n",
    "    name: \"output\"\n",
    "    data_type: TYPE_FP32\n",
    "    dims: [ 1,1,3 ]\n",
    "    label_filename: \"label.txt\"\n",
    "  }\n",
    "]\n",
    "instance_group [\n",
    "  {\n",
    "    count: 2\n",
    "    kind: KIND_GPU\n",
    "  }\n",
    "]\n",
    "dynamic_batching {\n",
    "  preferred_batch_size: [ 1 ]\n",
    "}\n",
    "\n"
   ]
  },
  {
   "cell_type": "code",
   "execution_count": 24,
   "metadata": {},
   "outputs": [
    {
     "name": "stdout",
     "output_type": "stream",
     "text": [
      "name: \"covid_plan\"\n",
      "platform: \"tensorrt_plan\"\n",
      "max_batch_size : 1\n",
      "input [\n",
      "  {\n",
      "    name: \"input\"\n",
      "    data_type: TYPE_FP32\n",
      "    format: FORMAT_NCHW\n",
      "    dims: [ 1,1,32000 ]    \n",
      "  }\n",
      "]\n",
      "output [\n",
      "  {\n",
      "    name: \"output\"\n",
      "    data_type: TYPE_FP32\n",
      "    dims: [ 1,1,3 ]\n",
      "    label_filename: \"labels.txt\"\n",
      "  }\n",
      "]\n",
      "instance_group [\n",
      "  {\n",
      "    count: 2\n",
      "    kind: KIND_GPU\n",
      "  }\n",
      "]\n",
      "dynamic_batching {\n",
      "  preferred_batch_size: [ 1 ]\n",
      "}\n",
      "\n"
     ]
    }
   ],
   "source": [
    "!cat './model_repo/covid_plan/config.pbtxt'"
   ]
  },
  {
   "cell_type": "code",
   "execution_count": 12,
   "metadata": {},
   "outputs": [],
   "source": [
    "!cp -R ./model_repo/covid_plan/ ./empty_dir/covid_plan/"
   ]
  },
  {
   "cell_type": "markdown",
   "metadata": {},
   "source": [
    "## Check status of Inference Server/Specific Model"
   ]
  },
  {
   "cell_type": "code",
   "execution_count": null,
   "metadata": {
    "scrolled": true
   },
   "outputs": [],
   "source": [
    "# !curl localhost:8000/api/status"
   ]
  },
  {
   "cell_type": "code",
   "execution_count": 13,
   "metadata": {},
   "outputs": [
    {
     "name": "stdout",
     "output_type": "stream",
     "text": [
      "Live: True\n",
      "Ready: True\n"
     ]
    }
   ],
   "source": [
    "url = 'localhost:8000'\n",
    "protocol = ProtocolType.HTTP\n",
    "\n",
    "health_ctx = ServerHealthContext(url, protocol, verbose=True)\n",
    "print(\"Live: {}\".format(health_ctx.is_live()))\n",
    "print(\"Ready: {}\".format(health_ctx.is_ready()))"
   ]
  },
  {
   "cell_type": "code",
   "execution_count": 14,
   "metadata": {},
   "outputs": [
    {
     "name": "stdout",
     "output_type": "stream",
     "text": [
      "Status for model covid_onnx\n",
      "id: \"inference:0\"\n",
      "version: \"1.14.0\"\n",
      "uptime_ns: 301180952943\n",
      "model_status {\n",
      "  key: \"covid_onnx\"\n",
      "  value {\n",
      "    config {\n",
      "      name: \"covid_onnx\"\n",
      "      platform: \"onnxruntime_onnx\"\n",
      "      version_policy {\n",
      "        latest {\n",
      "          num_versions: 1\n",
      "        }\n",
      "      }\n",
      "      input {\n",
      "        name: \"input\"\n",
      "        data_type: TYPE_FP32\n",
      "        format: FORMAT_NHWC\n",
      "        dims: 1\n",
      "        dims: 1\n",
      "        dims: 32000\n",
      "      }\n",
      "      output {\n",
      "        name: \"output\"\n",
      "        data_type: TYPE_FP32\n",
      "        dims: 1\n",
      "        dims: 1\n",
      "        dims: 3\n",
      "        label_filename: \"label.txt\"\n",
      "      }\n",
      "      instance_group {\n",
      "        name: \"covid_onnx_0\"\n",
      "        count: 2\n",
      "        gpus: 0\n",
      "        kind: KIND_GPU\n",
      "      }\n",
      "      default_model_filename: \"model.onnx\"\n",
      "      optimization {\n",
      "        input_pinned_memory {\n",
      "          enable: true\n",
      "        }\n",
      "        output_pinned_memory {\n",
      "          enable: true\n",
      "        }\n",
      "      }\n",
      "    }\n",
      "    version_status {\n",
      "      key: 1\n",
      "      value {\n",
      "        ready_state: MODEL_READY\n",
      "        ready_state_reason {\n",
      "        }\n",
      "      }\n",
      "    }\n",
      "  }\n",
      "}\n",
      "ready_state: SERVER_READY\n",
      "\n"
     ]
    }
   ],
   "source": [
    "model_name = \"covid_onnx\"\n",
    "# Create a status context and get server status\n",
    "status_ctx = ServerStatusContext(url, protocol, model_name, verbose=True)\n",
    "print(\"Status for model {}\".format(model_name))\n",
    "print(status_ctx.get_server_status())"
   ]
  },
  {
   "cell_type": "code",
   "execution_count": 15,
   "metadata": {},
   "outputs": [],
   "source": [
    "ctx = ServerStatusContext(url, protocol, model_name, True)\n",
    "server_status = ctx.get_server_status()\n",
    "\n",
    "if model_name not in server_status.model_status:\n",
    "    raise Exception(\"unable to get status for '\" + model_name + \"'\")\n",
    "\n",
    "status = server_status.model_status[model_name]\n",
    "config = status.config"
   ]
  },
  {
   "cell_type": "code",
   "execution_count": 16,
   "metadata": {},
   "outputs": [],
   "source": [
    "def parse_model(url, protocol, model_name, batch_size, verbose=False):\n",
    "    \"\"\"\n",
    "    Check the configuration of a model to make sure it meets the\n",
    "    requirements\n",
    "    \"\"\"\n",
    "    ctx = ServerStatusContext(url, protocol, model_name, verbose)\n",
    "    server_status = ctx.get_server_status()\n",
    "\n",
    "    if model_name not in server_status.model_status:\n",
    "        raise Exception(\"unable to get status for '\" + model_name + \"'\")\n",
    "\n",
    "    status = server_status.model_status[model_name]\n",
    "    config = status.config\n",
    "\n",
    "    if len(config.input) != 1:\n",
    "        raise Exception(\"expecting 1 input, got {}\".format(len(config.input)))\n",
    "    if len(config.output) != 1:\n",
    "        raise Exception(\"expecting 1 output, got {}\".format(len(config.output)))\n",
    "\n",
    "    input = config.input[0]\n",
    "    output = config.output[0]\n",
    "    \n",
    "    # Model specifying maximum batch size of 0 indicates that batching\n",
    "    # is not supported and so the input tensors do not expect an \"N\"\n",
    "    # dimension (and 'batch_size' should be 1 so that only a single\n",
    "    # image instance is inferred at a time).\n",
    "    max_batch_size = config.max_batch_size\n",
    "    if max_batch_size == 0:\n",
    "        if batch_size != 1:\n",
    "            raise Exception(\"batching not supported for model '\" + model_name + \"'\")\n",
    "    else: # max_batch_size > 0\n",
    "        if batch_size > max_batch_size:\n",
    "            raise Exception(\"expecting batch size <= {} for model {}\".format(max_batch_size, model_name))\n",
    "\n",
    "#     Model input must have 3 dims, either CHW or HWC\n",
    "    if len(input.dims) != 3:\n",
    "        raise Exception(\n",
    "            \"expecting input to have 3 dimensions, model '{}' input has {}\".format(\n",
    "                model_name, len(input.dims)))\n",
    "\n",
    "    if input.format == model_config.ModelInput.FORMAT_NHWC:\n",
    "        h = input.dims[0]\n",
    "        w = input.dims[1]\n",
    "        c = input.dims[2]\n",
    "    else:\n",
    "        c = input.dims[0]\n",
    "        h = input.dims[1]\n",
    "        w = input.dims[2]\n",
    "\n",
    "    return (input.name, output.name, c, h, w, input.format, input.data_type)"
   ]
  },
  {
   "cell_type": "code",
   "execution_count": 17,
   "metadata": {},
   "outputs": [],
   "source": [
    "model_version = -1\n",
    "batch_size = 1\n",
    "\n",
    "input_name, output_name, c, h, w, format, dtype = parse_model(url, protocol, model_name, batch_size, verbose=True)"
   ]
  },
  {
   "cell_type": "markdown",
   "metadata": {},
   "source": [
    "## Setup Data for inference"
   ]
  },
  {
   "cell_type": "code",
   "execution_count": 18,
   "metadata": {},
   "outputs": [
    {
     "data": {
      "text/plain": [
       "((1, 1, 32000), (1, 1, 32000))"
      ]
     },
     "execution_count": 18,
     "metadata": {},
     "output_type": "execute_result"
    }
   ],
   "source": [
    "shirnked_labels={0: 'healthy', 1: 'unknow_rep_illness', 2: 'covid_positive'}\n",
    "\n",
    "\n",
    "covid_np=np.load('covid.npy')\n",
    "healthy_np=np.load('healthy.npy')\n",
    "covid_np.shape, healthy_np.shape"
   ]
  },
  {
   "cell_type": "code",
   "execution_count": null,
   "metadata": {},
   "outputs": [],
   "source": []
  },
  {
   "cell_type": "markdown",
   "metadata": {},
   "source": [
    "## Setup inference on images"
   ]
  },
  {
   "cell_type": "code",
   "execution_count": 19,
   "metadata": {},
   "outputs": [],
   "source": [
    "def triton_inferer(ctx, input_name, output_name, batch):\n",
    "    #batch = [batch[i].cpu().numpy().astype(np.float32) for i in range(0,batch.shape[0]) ]\n",
    "    batch = [batch[i].astype(np.float32) for i in range(0,batch.shape[0]) ]\n",
    "    input_dict = { input_name : batch }\n",
    "    output_dict = { output_name : (InferContext.ResultFormat.RAW)}\n",
    "    results = ctx.run(\n",
    "        inputs=input_dict, \n",
    "        outputs=output_dict, \n",
    "        batch_size=len(batch)\n",
    "    )\n",
    "    return results[output_name]\n",
    "\n",
    "def trt_prediction(outputs):\n",
    "    pred=np.argmax(outputs[0][0], axis=-1)\n",
    "    out_pred=shirnked_labels[pred[0]]\n",
    "    return out_pred"
   ]
  },
  {
   "cell_type": "code",
   "execution_count": 20,
   "metadata": {},
   "outputs": [
    {
     "name": "stdout",
     "output_type": "stream",
     "text": [
      "[array([[[-8.9344082e+00, -7.0125093e+00, -1.0328293e-03]]], dtype=float32)]\n"
     ]
    },
    {
     "data": {
      "text/plain": [
       "'covid_positive'"
      ]
     },
     "execution_count": 20,
     "metadata": {},
     "output_type": "execute_result"
    }
   ],
   "source": [
    "model_name = \"covid_plan\"\n",
    "model_version = -1\n",
    "ctx = InferContext(url, protocol, model_name, model_version, verbose=False)\n",
    "out = triton_inferer(ctx, input_name, output_name, covid_np.reshape(1,1,1,32000))\n",
    "print(out)\n",
    "out=trt_prediction(out)\n",
    "out"
   ]
  },
  {
   "cell_type": "code",
   "execution_count": 21,
   "metadata": {},
   "outputs": [
    {
     "name": "stdout",
     "output_type": "stream",
     "text": [
      "[array([[[-1.803875e-03, -7.310710e+00, -6.782256e+00]]], dtype=float32)]\n"
     ]
    },
    {
     "data": {
      "text/plain": [
       "'healthy'"
      ]
     },
     "execution_count": 21,
     "metadata": {},
     "output_type": "execute_result"
    }
   ],
   "source": [
    "model_name = \"covid_plan\"\n",
    "model_version = -1\n",
    "ctx = InferContext(url, protocol, model_name, model_version, verbose=False)\n",
    "out = triton_inferer(ctx, input_name, output_name, healthy_np.reshape(1,1,1,32000))\n",
    "print(out)\n",
    "out=trt_prediction(out)\n",
    "out"
   ]
  },
  {
   "cell_type": "markdown",
   "metadata": {},
   "source": [
    "#  ---------------------- move on to onnx inference --------------------------------"
   ]
  },
  {
   "cell_type": "code",
   "execution_count": 36,
   "metadata": {},
   "outputs": [
    {
     "name": "stdout",
     "output_type": "stream",
     "text": [
      "Overwriting ./empty_dir/covid_onnx/config.pbtxt\n"
     ]
    }
   ],
   "source": [
    "%%writefile ./empty_dir/covid_onnx/config.pbtxt\n",
    "name: \"covid_onnx\"\n",
    "platform: \"onnxruntime_onnx\"\n",
    "max_batch_size : 0\n",
    "input [\n",
    "  {\n",
    "    name: \"input\"\n",
    "    data_type: TYPE_FP32\n",
    "    format: FORMAT_NHWC\n",
    "    dims: [ 1,1,32000 ]   \n",
    "      \n",
    "  }\n",
    "]\n",
    "output [\n",
    "  {\n",
    "    name: \"output\"\n",
    "    data_type: TYPE_FP32\n",
    "    dims: [ 1,1,3 ]\n",
    "    label_filename: \"label.txt\"\n",
    "  }\n",
    "]\n",
    "instance_group [\n",
    "  {\n",
    "    count: 2\n",
    "    kind: KIND_GPU\n",
    "  }\n",
    "]\n"
   ]
  },
  {
   "cell_type": "code",
   "execution_count": 8,
   "metadata": {},
   "outputs": [
    {
     "name": "stdout",
     "output_type": "stream",
     "text": [
      "Writing ./model_repo/covid_onnx/label.txt\n"
     ]
    }
   ],
   "source": [
    "%%writefile ./model_repo/covid_onnx/label.txt \n",
    "healthy\n",
    "unknow_rep_illness\n",
    "covid_positive\n"
   ]
  },
  {
   "cell_type": "code",
   "execution_count": 11,
   "metadata": {},
   "outputs": [],
   "source": [
    "!cp ./saved_model/relabelled_covid.onnx ./model_repo/covid_onnx/1/"
   ]
  },
  {
   "cell_type": "code",
   "execution_count": 12,
   "metadata": {},
   "outputs": [],
   "source": [
    "!mv ./model_repo/covid_onnx/1/relabelled_covid.onnx ./model_repo/covid_onnx/1/model.onnx "
   ]
  },
  {
   "cell_type": "code",
   "execution_count": 13,
   "metadata": {},
   "outputs": [],
   "source": [
    "!cp -R ./model_repo/covid_onnx/ ./empty_dir/covid_onnx/"
   ]
  },
  {
   "cell_type": "code",
   "execution_count": 22,
   "metadata": {},
   "outputs": [
    {
     "name": "stdout",
     "output_type": "stream",
     "text": [
      "[array([[[-8.9344053e+00, -7.0125089e+00, -1.0328917e-03]]], dtype=float32)]\n"
     ]
    },
    {
     "data": {
      "text/plain": [
       "'covid_positive'"
      ]
     },
     "execution_count": 22,
     "metadata": {},
     "output_type": "execute_result"
    }
   ],
   "source": [
    "model_name = \"covid_onnx\"\n",
    "model_version = -1\n",
    "ctx = InferContext(url, protocol, model_name, model_version, verbose=False)\n",
    "out = triton_inferer(ctx, input_name, output_name, covid_np.reshape(1,1,1,32000))\n",
    "print(out)\n",
    "out=trt_prediction(out)\n",
    "out"
   ]
  },
  {
   "cell_type": "code",
   "execution_count": 23,
   "metadata": {},
   "outputs": [
    {
     "name": "stdout",
     "output_type": "stream",
     "text": [
      "[array([[[-1.8036779e-03, -7.3107162e+00, -6.7822638e+00]]], dtype=float32)]\n"
     ]
    },
    {
     "data": {
      "text/plain": [
       "'healthy'"
      ]
     },
     "execution_count": 23,
     "metadata": {},
     "output_type": "execute_result"
    }
   ],
   "source": [
    "model_name = \"covid_onnx\"\n",
    "model_version = -1\n",
    "ctx = InferContext(url, protocol, model_name, model_version, verbose=False)\n",
    "out = triton_inferer(ctx, input_name, output_name, healthy_np.reshape(1,1,1,32000))\n",
    "print(out)\n",
    "out=trt_prediction(out)\n",
    "out"
   ]
  }
 ],
 "metadata": {
  "kernelspec": {
   "display_name": "Python 3",
   "language": "python",
   "name": "python3"
  },
  "language_info": {
   "codemirror_mode": {
    "name": "ipython",
    "version": 3
   },
   "file_extension": ".py",
   "mimetype": "text/x-python",
   "name": "python",
   "nbconvert_exporter": "python",
   "pygments_lexer": "ipython3",
   "version": "3.6.10"
  }
 },
 "nbformat": 4,
 "nbformat_minor": 4
}
