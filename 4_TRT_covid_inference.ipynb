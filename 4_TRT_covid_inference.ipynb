{
 "cells": [
  {
   "cell_type": "markdown",
   "metadata": {},
   "source": [
    "```\n",
    "The MIT License (MIT)\n",
    "\n",
    "Copyright (c) 2020 NVIDIA\n",
    "\n",
    "Permission is hereby granted, free of charge, to any person obtaining a copy of\n",
    "this software and associated documentation files (the \"Software\"), to deal in\n",
    "the Software without restriction, including without limitation the rights to\n",
    "use, copy, modify, merge, publish, distribute, sublicense, and/or sell copies of\n",
    "the Software, and to permit persons to whom the Software is furnished to do so,\n",
    "subject to the following conditions:\n",
    "\n",
    "The above copyright notice and this permission notice shall be included in all\n",
    "copies or substantial portions of the Software.\n",
    "\n",
    "THE SOFTWARE IS PROVIDED \"AS IS\", WITHOUT WARRANTY OF ANY KIND, EXPRESS OR\n",
    "IMPLIED, INCLUDING BUT NOT LIMITED TO THE WARRANTIES OF MERCHANTABILITY, FITNESS\n",
    "FOR A PARTICULAR PURPOSE AND NONINFRINGEMENT. IN NO EVENT SHALL THE AUTHORS OR\n",
    "COPYRIGHT HOLDERS BE LIABLE FOR ANY CLAIM, DAMAGES OR OTHER LIABILITY, WHETHER\n",
    "IN AN ACTION OF CONTRACT, TORT OR OTHERWISE, ARISING FROM, OUT OF OR IN\n",
    "CONNECTION WITH THE SOFTWARE OR THE USE OR OTHER DEALINGS IN THE SOFTWARE.\n",
    "\n",
    "```"
   ]
  },
  {
   "cell_type": "markdown",
   "metadata": {},
   "source": [
    "# Model Converstion to NVIDIA TensorRT & Inference\n",
    "\n",
    "Walthrough a generic pipeline for:\n",
    "- Converting a Pytorch network to TensorRT (via ONNX)\n",
    "- With and without dynamic batch\n",
    "- Steps for Running inference using a TensorRT engine in Python\n",
    "\n",
    "#### Environment\n",
    "All steps executed using **NGC Pytorch Docker (v 20.06)**\n",
    "* [GPU Dashboards](https://medium.com/rapids-ai/gpu-dashboards-in-jupyter-lab-757b17aae1d5) installed using\n",
    "```\n",
    "pip install jupyterlab-nvdashboard\n",
    "jupyter labextension install jupyterlab-nvdashboard\n",
    "```\n",
    "* [Netron](https://github.com/lutzroeder/netron) for network visualization"
   ]
  },
  {
   "cell_type": "code",
   "execution_count": 4,
   "metadata": {},
   "outputs": [],
   "source": []
  },
  {
   "cell_type": "markdown",
   "metadata": {},
   "source": [
    "#### Dataset\n",
    "* [NIH ChestXray 14 dataset](https://www.nih.gov/news-events/news-releases/nih-clinical-center-provides-one-largest-publicly-available-chest-x-ray-datasets-scientific-community)\n",
    "* 112,120 frontal view chest xrays from 30,805 unique subjects\n",
    "* X-ray images are available as bitmaps extracted from the DICOM file"
   ]
  },
  {
   "cell_type": "code",
   "execution_count": 1,
   "metadata": {},
   "outputs": [],
   "source": [
    "import torch\n",
    "import torch.nn as nn\n",
    "import torch.nn.functional as F\n",
    "import torch.optim as optim\n",
    "from torchvision import datasets, transforms\n",
    "from torch.utils.data import Dataset\n",
    "import pandas as pd\n",
    "import numpy as np\n",
    "from novograd import Novograd\n",
    "import os\n"
   ]
  },
  {
   "cell_type": "code",
   "execution_count": 2,
   "metadata": {},
   "outputs": [],
   "source": [
    "shirnked_labels={0: 'healthy', 1: 'unknow_rep_illness', 2: 'covid_positive'}\n",
    "device = torch.device(\"cuda\" if torch.cuda.is_available() else \"cpu\")"
   ]
  },
  {
   "cell_type": "code",
   "execution_count": 8,
   "metadata": {},
   "outputs": [
    {
     "data": {
      "text/plain": [
       "((1, 1, 32000), (1, 1, 32000))"
      ]
     },
     "execution_count": 8,
     "metadata": {},
     "output_type": "execute_result"
    }
   ],
   "source": [
    "covid_np=np.load('covid.npy')\n",
    "healthy_np=np.load('healthy.npy')\n",
    "covid_np.shape, healthy_np.shape"
   ]
  },
  {
   "cell_type": "code",
   "execution_count": null,
   "metadata": {},
   "outputs": [],
   "source": []
  },
  {
   "cell_type": "markdown",
   "metadata": {},
   "source": [
    "### Model"
   ]
  },
  {
   "cell_type": "code",
   "execution_count": 3,
   "metadata": {
    "tags": []
   },
   "outputs": [],
   "source": [
    "import torch\n",
    "import torch.nn as nn\n",
    "import torch.nn.functional as F\n",
    "import torch.optim as optim\n",
    "from torchvision import datasets, transforms\n",
    "from torch.utils.data import Dataset\n",
    "#import torchaudio\n",
    "import pandas as pd\n",
    "import numpy as np\n",
    "from novograd import Novograd\n",
    "class COVID(nn.Module):\n",
    "    def __init__(self):\n",
    "        super(COVID, self).__init__()\n",
    "        self.conv1 = nn.Conv1d(1, 128, 80, 4)\n",
    "        self.bn1 = nn.BatchNorm1d(128)\n",
    "        self.pool1 = nn.MaxPool1d(4)\n",
    "        self.conv2 = nn.Conv1d(128, 128, 3)\n",
    "        self.bn2 = nn.BatchNorm1d(128)\n",
    "        self.pool2 = nn.MaxPool1d(4)\n",
    "        self.conv3 = nn.Conv1d(128, 256, 3)\n",
    "        self.bn3 = nn.BatchNorm1d(256)\n",
    "        self.pool3 = nn.MaxPool1d(4)\n",
    "        self.conv4 = nn.Conv1d(256, 512, 3)\n",
    "        self.bn4 = nn.BatchNorm1d(512)\n",
    "        self.pool4 = nn.MaxPool1d(4)\n",
    "        self.avgPool = nn.AvgPool1d(30) #input should be 512x30 so this outputs a 512x1\n",
    "        self.fc1 = nn.Linear(512, 3)\n",
    "        \n",
    "    def forward(self, x):\n",
    "        x = self.conv1(x)\n",
    "        x = F.relu(self.bn1(x))\n",
    "        x = self.pool1(x)\n",
    "        x = self.conv2(x)\n",
    "        x = F.relu(self.bn2(x))\n",
    "        x = self.pool2(x)\n",
    "        x = self.conv3(x)\n",
    "        x = F.relu(self.bn3(x))\n",
    "        x = self.pool3(x)\n",
    "        x = self.conv4(x)\n",
    "        x = F.relu(self.bn4(x))\n",
    "        x = self.pool4(x)\n",
    "        x = self.avgPool(x)\n",
    "        x = x.permute(0, 2, 1) #change the 512x1 to 1x512\n",
    "        x = self.fc1(x)\n",
    "        return F.log_softmax(x, dim = 2)\n",
    "\n",
    "model = COVID()\n",
    "model.to(device)\n",
    "optimizer = Novograd(model.parameters(), lr = 0.01, weight_decay = 0.0001)\n",
    "scheduler = optim.lr_scheduler.StepLR(optimizer, step_size = 20, gamma = 0.1)\n",
    "\n"
   ]
  },
  {
   "cell_type": "code",
   "execution_count": 11,
   "metadata": {
    "tags": [
     "outputPrepend"
    ]
   },
   "outputs": [],
   "source": []
  },
  {
   "cell_type": "code",
   "execution_count": 4,
   "metadata": {},
   "outputs": [],
   "source": [
    "import onnx\n",
    "#Load the ONNX Model\n",
    "model_onnx = onnx.load(\"./saved_model/relabelled_covid.onnx\")\n",
    "\n",
    "# # Check that the IR is well formed\n",
    "onnx.checker.check_model(model_onnx)\n",
    "\n",
    "# # Print a human readable representation of the graph\n",
    "# onnx.helper.printable_graph(model_onnx.graph)"
   ]
  },
  {
   "cell_type": "code",
   "execution_count": 5,
   "metadata": {},
   "outputs": [
    {
     "name": "stdout",
     "output_type": "stream",
     "text": [
      "-rw-r--r-- 1 root root 2.2M Nov  3 09:19 ./saved_model/relabelled_covid.onnx\n"
     ]
    }
   ],
   "source": [
    "!ls -lh ./saved_model/*.onnx"
   ]
  },
  {
   "cell_type": "markdown",
   "metadata": {},
   "source": [
    "**Check the ONNX network in Netron (at http://localhost:8080/)**"
   ]
  },
  {
   "cell_type": "markdown",
   "metadata": {},
   "source": [
    "### Test inference"
   ]
  },
  {
   "cell_type": "markdown",
   "metadata": {},
   "source": [
    "### Pytorch"
   ]
  },
  {
   "cell_type": "markdown",
   "metadata": {},
   "source": [
    "### ONNX"
   ]
  },
  {
   "cell_type": "code",
   "execution_count": 9,
   "metadata": {},
   "outputs": [
    {
     "name": "stdout",
     "output_type": "stream",
     "text": [
      "<class 'list'>\n",
      "[[-8.9343977e+00 -7.0125051e+00 -1.0328917e-03]] (1, 3)\n",
      "onnx runtime prediction :covid_positive | actual label :covid_positive\n"
     ]
    }
   ],
   "source": [
    "#Run ONNX inference\n",
    "import onnxruntime as ort\n",
    "\n",
    "def onnx_prediction(onnx_model, input_numpy ):\n",
    "    \n",
    "    ort_session = ort.InferenceSession(onnx_model)\n",
    "    \n",
    "    outputs = ort_session.run(None, {'input': input_numpy})\n",
    "    print(type(outputs))\n",
    "    \n",
    "    print(outputs[0][0], outputs[0][0].shape)\n",
    "    pred=np.argmax(outputs[0][0], axis=-1)\n",
    "    out_pred=shirnked_labels[pred[0]]\n",
    "    return out_pred\n",
    "\n",
    "output=onnx_prediction('./saved_model/relabelled_covid.onnx', covid_np)\n",
    "\n",
    "print(\"onnx runtime prediction :{} | actual label :{}\".format(output, 'covid_positive'))\n"
   ]
  },
  {
   "cell_type": "code",
   "execution_count": 91,
   "metadata": {},
   "outputs": [
    {
     "data": {
      "text/plain": [
       "(8, 7)"
      ]
     },
     "execution_count": 91,
     "metadata": {},
     "output_type": "execute_result"
    }
   ],
   "source": []
  },
  {
   "cell_type": "markdown",
   "metadata": {},
   "source": [
    "# TensorRT"
   ]
  },
  {
   "cell_type": "markdown",
   "metadata": {},
   "source": [
    "### Key Concepts\n",
    "**Network Definition**: interface provides methods for the application to specify the definition of a network.\n",
    "\n",
    "**Builder Configuration**: interface specifies details for creating an engine.\n",
    "\n",
    "**Builder**: allows the creation of an optimized engine from a network definition and a builder configuration.\n",
    "\n",
    "**Engine**: allows the application to execute inference. It supports synchronous and asynchronous execution, profiling, and enumeration and querying of the bindings for the engine inputs and outputs.\n",
    "\n",
    "An **Optimization profile** specifies constraints on dynamic dimensions. It describes a range of dimensions for each network input and the dimensions that the auto-tuner should use for optimization. When using runtime dimensions, you must create at least one optimization profile at build time. Two profiles can specify disjoint or overlapping ranges.\n",
    "\n",
    "For example, one profile might specify a minimum size of [3,100,200], a maximum size of [3,200,300], and optimization dimensions of [3,150,250] while another profile might specify min, max and optimization dimensions of [3,200,100], [3,300,400], and [3,250,250].\n",
    "\n",
    "\n",
    "\n",
    "> Note, if your TensorRT engine has fixed batch size and input shapes, then you **do not** need to worry about optimization profile(s)\n",
    "\n"
   ]
  },
  {
   "cell_type": "markdown",
   "metadata": {},
   "source": [
    "### Note\n",
    "\n",
    "*Implicit batch* networks were previously the standard up until TensorRT 6. They supported variable batch size through the use of the builder.maxBatchSize attribute, but do not support variable shapes for any of the other dimensions.\n",
    "\n",
    "*Explicit Batch* networks introduced a few changes to the TensorRT API. \n",
    "First, inference is instead performed using execute_v2(bindings) and execute_async_v2(bindings, stream) , which no longer require a batch_size argument since it is taken from the context binding dimensions explicitly."
   ]
  },
  {
   "cell_type": "markdown",
   "metadata": {},
   "source": [
    "## Convert Model to TRT"
   ]
  },
  {
   "cell_type": "markdown",
   "metadata": {},
   "source": [
    "Sample commands\n",
    "\n",
    "Simple network with no dynamic batch dimension\n",
    "```\n",
    "trtexec --explicitBatch \\\n",
    "            --onnx=model_weights.onnx \\\n",
    "            --saveEngine=trt_export.engine \n",
    "```\n",
    "\n",
    "With dynamic batch\n",
    "``` \n",
    "trtexec --explicitBatch \\\n",
    "            --onnx=model_weights_dynamicbatch.onnx \\\n",
    "            --minShapes=input:1x1x48x48 \\\n",
    "            --optShapes=input:4x1x48x48 \\\n",
    "            --maxShapes=input:8x1x48x48 \\\n",
    "            --shapes=input:4x1x48x48 \\\n",
    "            --saveEngine=trt_export_dynamicbatch.engine \n",
    "```\n",
    "\n",
    "For generating and engine in FP16\n",
    "``` \n",
    "trtexec --explicitBatch \\\n",
    "            --onnx=model_weights_dynamicbatch.onnx \\\n",
    "            --minShapes=input:1x1x48x48 \\\n",
    "            --optShapes=input:4x1x48x48 \\\n",
    "            --maxShapes=input:8x1x48x48 \\\n",
    "            --shapes=input:4x1x48x48 \\\n",
    "            --saveEngine=trt_export_dynamicbatch_fp16.engine \\\n",
    "            --fp16\n",
    "```"
   ]
  },
  {
   "cell_type": "code",
   "execution_count": 24,
   "metadata": {
    "tags": []
   },
   "outputs": [
    {
     "name": "stdout",
     "output_type": "stream",
     "text": [
      "trtexec --explicitBatch --onnx=./saved_model/relabelled_covid.onnx --minShapes=input:1x1x32000 --optShapes=input:1x1x32000 --maxShapes=input:1x1x32000  --shapes=input:1x1x32000 --saveEngine=./saved_model/covid.engine\n"
     ]
    },
    {
     "data": {
      "text/plain": [
       "0"
      ]
     },
     "execution_count": 24,
     "metadata": {},
     "output_type": "execute_result"
    }
   ],
   "source": [
    "cmd = 'trtexec --explicitBatch --onnx=./saved_model/relabelled_covid.onnx --minShapes=input:1x1x32000 --optShapes=input:1x1x32000 --maxShapes=input:1x1x32000  --shapes=input:1x1x32000 --saveEngine=./saved_model/covid.engine'\n",
    "print(cmd)\n",
    "os.system(cmd)"
   ]
  },
  {
   "cell_type": "code",
   "execution_count": 22,
   "metadata": {
    "tags": []
   },
   "outputs": [
    {
     "name": "stdout",
     "output_type": "stream",
     "text": [
      "python onnx_to_tensorrt7.py --model=./saved_model/relabelled_covid.onnx --output=covid.engine\n"
     ]
    },
    {
     "data": {
      "text/plain": [
       "512"
      ]
     },
     "execution_count": 22,
     "metadata": {},
     "output_type": "execute_result"
    }
   ],
   "source": [
    "cmd = 'python onnx_to_tensorrt7.py --model=./saved_model/relabelled_covid.onnx --output=covid.engine'\n",
    "print(cmd)\n",
    "#os.system(cmd)"
   ]
  },
  {
   "cell_type": "markdown",
   "metadata": {},
   "source": [
    "#### Inspect Engine"
   ]
  },
  {
   "cell_type": "code",
   "execution_count": 18,
   "metadata": {},
   "outputs": [],
   "source": [
    "import tensorrt as trt\n",
    "import pycuda.driver as cuda\n",
    "import pycuda.autoinit"
   ]
  },
  {
   "cell_type": "code",
   "execution_count": 19,
   "metadata": {},
   "outputs": [],
   "source": [
    "def load_engine(filename):\n",
    "    # Load serialized engine file into memory\n",
    "    with open(filename, 'rb') as f, trt.Runtime(trt.Logger(trt.Logger.WARNING)) as runtime:\n",
    "        return runtime.deserialize_cuda_engine(f.read())\n",
    "\n",
    "def inspect_engine(engine):\n",
    "    profile_meta = {}\n",
    "    num_bindings_per_profile = engine.num_bindings // engine.num_optimization_profiles\n",
    "    for profile_index in range(engine.num_optimization_profiles):\n",
    "        start_binding = profile_index * num_bindings_per_profile\n",
    "        end_binding = start_binding + num_bindings_per_profile\n",
    "        \n",
    "        binding_meta = {}\n",
    "        for binding_index in range(start_binding, end_binding):\n",
    "            key = \"Binding {}\".format(binding_index)\n",
    "            binding_meta[key] = {\n",
    "                \"profile\": profile_index,\n",
    "                \"binding_index\": binding_index,\n",
    "                \"binding_shape\": engine.get_binding_shape(binding_index),\n",
    "                \"binding_dtype\": engine.get_binding_dtype(binding_index),\n",
    "                \"binding_name\": engine.get_binding_name(binding_index),\n",
    "            }\n",
    "\n",
    "            if engine.binding_is_input(binding_index):\n",
    "                binding_meta[key][\"binding_type\"] = \"INPUT\"\n",
    "                binding_meta[key][\"profile_shape\"] = engine.get_profile_shape(profile_index, binding_index)\n",
    "            else:\n",
    "                binding_meta[key][\"binding_type\"] = \"OUTPUT\"\n",
    "\n",
    "        profile_meta[\"Profile {}\".format(profile_index)] = binding_meta\n",
    "\n",
    "    from pprint import pprint\n",
    "    pprint(profile_meta)"
   ]
  },
  {
   "cell_type": "code",
   "execution_count": 25,
   "metadata": {
    "tags": []
   },
   "outputs": [
    {
     "name": "stdout",
     "output_type": "stream",
     "text": [
      "{'Profile 0': {'Binding 0': {'binding_dtype': DataType.FLOAT,\n",
      "                             'binding_index': 0,\n",
      "                             'binding_name': 'input',\n",
      "                             'binding_shape': (1, 1, 32000),\n",
      "                             'binding_type': 'INPUT',\n",
      "                             'profile': 0,\n",
      "                             'profile_shape': [(1, 1, 32000),\n",
      "                                               (1, 1, 32000),\n",
      "                                               (1, 1, 32000)]},\n",
      "               'Binding 1': {'binding_dtype': DataType.FLOAT,\n",
      "                             'binding_index': 1,\n",
      "                             'binding_name': 'output',\n",
      "                             'binding_shape': (1, 1, 3),\n",
      "                             'binding_type': 'OUTPUT',\n",
      "                             'profile': 0}}}\n"
     ]
    }
   ],
   "source": [
    "engine_path = './saved_model/covid.engine'\n",
    "# Load a serialized engine into memory\n",
    "engine = load_engine(engine_path)\n",
    "# View various attributes of engine\n",
    "inspect_engine(engine)"
   ]
  },
  {
   "cell_type": "code",
   "execution_count": 26,
   "metadata": {
    "tags": []
   },
   "outputs": [
    {
     "name": "stdout",
     "output_type": "stream",
     "text": [
      "Active Optimization Profile: 0\n"
     ]
    }
   ],
   "source": [
    "# Create context, this can be re-used\n",
    "context = engine.create_execution_context()\n",
    "# Profile 0 (first profile) is used by default\n",
    "context.active_optimization_profile = 0\n",
    "print(\"Active Optimization Profile: {}\".format(context.active_optimization_profile))"
   ]
  },
  {
   "cell_type": "markdown",
   "metadata": {},
   "source": [
    "#### Binding Indices and Shape"
   ]
  },
  {
   "cell_type": "code",
   "execution_count": 27,
   "metadata": {},
   "outputs": [],
   "source": [
    "def get_binding_idxs(engine, profile_index):\n",
    "    # Calculate start/end binding indices for current context's profile\n",
    "    num_bindings_per_profile = engine.num_bindings // engine.num_optimization_profiles\n",
    "    start_binding = profile_index * num_bindings_per_profile\n",
    "    end_binding = start_binding + num_bindings_per_profile\n",
    "\n",
    "    print(\"Engine/Binding Metadata\")\n",
    "    print(\"\\tNumber of optimization profiles: {}\".format(engine.num_optimization_profiles))\n",
    "    print(\"\\tNumber of bindings per profile: {}\".format(num_bindings_per_profile))\n",
    "    print(\"\\tFirst binding for profile {}: {}\".format(profile_index, start_binding))\n",
    "    print(\"\\tLast binding for profile {}: {}\".format(profile_index, end_binding-1))\n",
    "\n",
    "\n",
    "    # Separate input and output binding indices for convenience\n",
    "    input_binding_idxs = []\n",
    "    output_binding_idxs = []\n",
    "    for binding_index in range(start_binding, end_binding):\n",
    "        if engine.binding_is_input(binding_index):\n",
    "            input_binding_idxs.append(binding_index)\n",
    "        else:\n",
    "            output_binding_idxs.append(binding_index)\n",
    "\n",
    "    return input_binding_idxs, output_binding_idxs"
   ]
  },
  {
   "cell_type": "code",
   "execution_count": 28,
   "metadata": {
    "tags": []
   },
   "outputs": [
    {
     "name": "stdout",
     "output_type": "stream",
     "text": [
      "Engine/Binding Metadata\n",
      "\tNumber of optimization profiles: 1\n",
      "\tNumber of bindings per profile: 2\n",
      "\tFirst binding for profile 0: 0\n",
      "\tLast binding for profile 0: 1\n"
     ]
    }
   ],
   "source": [
    "# These binding_idxs can change if either the context or the \n",
    "# active_optimization_profile are changed\n",
    "input_binding_idxs, output_binding_idxs = get_binding_idxs(engine, context.active_optimization_profile)\n",
    "input_names = [engine.get_binding_name(binding_idx) for binding_idx in input_binding_idxs]"
   ]
  },
  {
   "cell_type": "code",
   "execution_count": 29,
   "metadata": {},
   "outputs": [],
   "source": [
    "def is_dynamic(shape):\n",
    "    return any(dim is None or dim < 0 for dim in shape)\n",
    "\n",
    "def get_image_inputs(engine, context, input_binding_idxs,seed=42):\n",
    "    # Input data for inference\n",
    "    host_inputs = []\n",
    "    print(\"Generating Random Inputs\")\n",
    "    print(\"\\tUsing random seed: {}\".format(seed))\n",
    "    np.random.seed(seed)\n",
    "    for binding_index in input_binding_idxs:\n",
    "        # If input shape is fixed, we'll just use it\n",
    "        input_shape = context.get_binding_shape(binding_index)\n",
    "        input_name = engine.get_binding_name(binding_index)\n",
    "        print(\"\\tInput [{}] shape: {}\".format(input_name, input_shape))\n",
    "        # If input shape is dynamic, we'll arbitrarily select one of the\n",
    "        # the min/opt/max shapes from our optimization profile\n",
    "        if is_dynamic(input_shape):\n",
    "            profile_index = context.active_optimization_profile\n",
    "            profile_shapes = engine.get_profile_shape(profile_index, binding_index)\n",
    "            print(\"\\tProfile Shapes for [{}]: [kMIN {} | kOPT {} | kMAX {}]\".format(input_name, *profile_shapes))\n",
    "            # 0=min, 1=opt, 2=max, or choose any shape, (min <= shape <= max)\n",
    "            input_shape = profile_shapes[1]\n",
    "            print(\"\\tInput [{}] shape was dynamic, setting inference shape to {}\".format(input_name, input_shape))\n",
    "\n",
    "        host_inputs.append(np.random.random(input_shape).astype(np.float32))\n",
    "\n",
    "    return host_inputs\n"
   ]
  },
  {
   "cell_type": "code",
   "execution_count": 30,
   "metadata": {
    "tags": []
   },
   "outputs": [
    {
     "name": "stdout",
     "output_type": "stream",
     "text": [
      "Generating Random Inputs\n",
      "\tUsing random seed: 42\n",
      "\tInput [input] shape: (1, 1, 32000)\n"
     ]
    }
   ],
   "source": [
    "# Generate random inputs based on profile shapes\n",
    "host_inputs = get_image_inputs(engine, context, input_binding_idxs)"
   ]
  },
  {
   "cell_type": "code",
   "execution_count": 31,
   "metadata": {
    "tags": []
   },
   "outputs": [
    {
     "name": "stdout",
     "output_type": "stream",
     "text": [
      "Input Metadata\n",
      "\tNumber of Inputs: 1\n",
      "\tInput Bindings for Profile 0: [0]\n",
      "\tInput names: ['input']\n",
      "\tInput shapes: [(1, 1, 32000)]\n"
     ]
    }
   ],
   "source": [
    "# Allocate device memory for inputs. This can be easily re-used if the\n",
    "# input shapes don't change\n",
    "device_inputs = [cuda.mem_alloc(h_input.nbytes) for h_input in host_inputs]\n",
    "\n",
    "# Copy host inputs to device, this needs to be done for each new input\n",
    "for h_input, d_input in zip(host_inputs, device_inputs):\n",
    "    cuda.memcpy_htod(d_input, h_input)\n",
    "\n",
    "print(\"Input Metadata\")\n",
    "print(\"\\tNumber of Inputs: {}\".format(len(input_binding_idxs)))\n",
    "print(\"\\tInput Bindings for Profile {}: {}\".format(context.active_optimization_profile, input_binding_idxs))\n",
    "print(\"\\tInput names: {}\".format(input_names))\n",
    "print(\"\\tInput shapes: {}\".format([inp.shape for inp in host_inputs]))"
   ]
  },
  {
   "cell_type": "code",
   "execution_count": 32,
   "metadata": {},
   "outputs": [],
   "source": [
    "def setup_binding_shapes(engine, context, host_inputs, input_binding_idxs,\n",
    "                  output_binding_idxs, has_input_shape_changed=False):\n",
    "    # Explicitly set the dynamic input shapes, so the dynamic output\n",
    "    # shapes can be computed internally\n",
    "\n",
    "    for host_input, binding_index in zip(host_inputs, input_binding_idxs):\n",
    "        context.set_binding_shape(binding_index, host_input.shape)\n",
    "\n",
    "    assert(context.all_binding_shapes_specified)\n",
    "\n",
    "    host_outputs = [None] * len(output_binding_idxs)\n",
    "    device_outputs = [None] * len(output_binding_idxs)\n",
    "    for i, binding_index in enumerate(output_binding_idxs):\n",
    "        output_shape = context.get_binding_shape(binding_index)\n",
    "        # print(\"output_shape\", output_shape)\n",
    "        # Allocate buffers to hold output results after copying back to host\n",
    "        host_outputs[i] = np.empty(output_shape, dtype=np.float32)\n",
    "        # Allocate output buffers on device\n",
    "        device_outputs[i] = cuda.mem_alloc(host_outputs[i].nbytes)\n",
    "\n",
    "    return host_outputs, device_outputs"
   ]
  },
  {
   "cell_type": "code",
   "execution_count": 33,
   "metadata": {
    "tags": []
   },
   "outputs": [
    {
     "name": "stdout",
     "output_type": "stream",
     "text": [
      "Output Metadata\n",
      "\tNumber of Outputs: 1\n",
      "\tOutput names: ['output']\n",
      "\tOutput shapes: [(1, 1, 3)]\n",
      "\tOutput Bindings for Profile 0: [1]\n"
     ]
    }
   ],
   "source": [
    "# This needs to be called everytime your input shapes change\n",
    "# If your inputs are always the same shape (same batch size, etc.),\n",
    "# then you will only need to call this once\n",
    "host_outputs, device_outputs = setup_binding_shapes(\n",
    "    engine, context, host_inputs, input_binding_idxs, output_binding_idxs,\n",
    ")\n",
    "output_names = [engine.get_binding_name(binding_idx) for binding_idx in output_binding_idxs]\n",
    "\n",
    "print(\"Output Metadata\")\n",
    "print(\"\\tNumber of Outputs: {}\".format(len(output_binding_idxs)))\n",
    "print(\"\\tOutput names: {}\".format(output_names))\n",
    "print(\"\\tOutput shapes: {}\".format([out.shape for out in host_outputs]))\n",
    "print(\"\\tOutput Bindings for Profile {}: {}\".format(context.active_optimization_profile, output_binding_idxs))"
   ]
  },
  {
   "cell_type": "markdown",
   "metadata": {},
   "source": [
    "### Run TRT inference!"
   ]
  },
  {
   "cell_type": "code",
   "execution_count": 34,
   "metadata": {
    "tags": []
   },
   "outputs": [
    {
     "name": "stdout",
     "output_type": "stream",
     "text": [
      "Inference Outputs Shape: (1, 1, 3)\n"
     ]
    }
   ],
   "source": [
    "# Bindings are a list of device pointers for inputs and outputs\n",
    "bindings = device_inputs + device_outputs\n",
    "\n",
    "# Inference\n",
    "context.execute_v2(bindings)\n",
    "\n",
    "# Copy outputs back to host to view results\n",
    "for h_output, d_output in zip(host_outputs, device_outputs):\n",
    "    cuda.memcpy_dtoh(h_output, d_output)\n",
    "\n",
    "# View outputs\n",
    "print(\"Inference Outputs Shape:\", host_outputs[0].shape)"
   ]
  },
  {
   "cell_type": "code",
   "execution_count": 35,
   "metadata": {
    "tags": []
   },
   "outputs": [],
   "source": [
    "def get_trt_inference_outputs(context,host_inputs,host_outputs,device_inputs, device_outputs):\n",
    "    if not isinstance(host_inputs, list) and isinstance(host_inputs, np.ndarray): host_inputs = [host_inputs]\n",
    "    else: raise ValueError('host inputs must be list of numpy-nd arrays')\n",
    "            \n",
    "    for h_input, d_input in zip(host_inputs, device_inputs): # Copy new inputs\n",
    "        cuda.memcpy_htod(d_input, h_input)\n",
    "    \n",
    "    bindings = device_inputs + device_outputs\n",
    "    context.execute_v2(bindings)\n",
    "\n",
    "    for h_output, d_output in zip(host_outputs, device_outputs):\n",
    "        cuda.memcpy_dtoh(h_output, d_output)  # Get outputs from device\n",
    "    \n",
    "    return host_outputs\n"
   ]
  },
  {
   "cell_type": "code",
   "execution_count": 46,
   "metadata": {},
   "outputs": [],
   "source": [
    "def trt_prediction(outputs):\n",
    "    pred=np.argmax(outputs[0][0], axis=-1)\n",
    "    out_pred=shirnked_labels[pred[0]]\n",
    "    return out_pred"
   ]
  },
  {
   "cell_type": "code",
   "execution_count": 40,
   "metadata": {},
   "outputs": [
    {
     "data": {
      "text/plain": [
       "'covid_positive'"
      ]
     },
     "execution_count": 40,
     "metadata": {},
     "output_type": "execute_result"
    }
   ],
   "source": [
    "result_trt_fp32 = get_trt_inference_outputs(context,covid_np,host_outputs,device_inputs,device_outputs)\n",
    "trt_prediction(result_trt_fp32)\n"
   ]
  },
  {
   "cell_type": "code",
   "execution_count": 41,
   "metadata": {},
   "outputs": [
    {
     "data": {
      "text/plain": [
       "'healthy'"
      ]
     },
     "execution_count": 41,
     "metadata": {},
     "output_type": "execute_result"
    }
   ],
   "source": [
    "result_trt_fp32 = get_trt_inference_outputs(context,healthy_np,host_outputs,device_inputs,device_outputs)\n",
    "trt_prediction(result_trt_fp32)"
   ]
  },
  {
   "cell_type": "code",
   "execution_count": 42,
   "metadata": {},
   "outputs": [],
   "source": [
    "del context\n",
    "del engine"
   ]
  },
  {
   "cell_type": "markdown",
   "metadata": {},
   "source": [
    "### FP16 inference"
   ]
  },
  {
   "cell_type": "code",
   "execution_count": 43,
   "metadata": {},
   "outputs": [
    {
     "name": "stdout",
     "output_type": "stream",
     "text": [
      "trtexec --explicitBatch --onnx=./saved_model/relabelled_covid.onnx --minShapes=input:1x1x32000 --optShapes=input:1x1x32000 --maxShapes=input:1x1x32000  --shapes=input:1x1x32000 --saveEngine=./saved_model/covid_fp16.engine --fp16\n"
     ]
    },
    {
     "data": {
      "text/plain": [
       "0"
      ]
     },
     "execution_count": 43,
     "metadata": {},
     "output_type": "execute_result"
    }
   ],
   "source": [
    "cmd = 'trtexec --explicitBatch --onnx=./saved_model/relabelled_covid.onnx --minShapes=input:1x1x32000 --optShapes=input:1x1x32000 --maxShapes=input:1x1x32000  --shapes=input:1x1x32000 --saveEngine=./saved_model/covid_fp16.engine --fp16'\n",
    "print(cmd)\n",
    "os.system(cmd)"
   ]
  },
  {
   "cell_type": "code",
   "execution_count": 44,
   "metadata": {},
   "outputs": [
    {
     "name": "stdout",
     "output_type": "stream",
     "text": [
      "-rw-r--r-- 1 root root 2.3M Nov  4 08:15 ./saved_model/covid.engine\n",
      "-rw-r--r-- 1 root root 1.2M Nov  4 08:22 ./saved_model/covid_fp16.engine\n"
     ]
    }
   ],
   "source": [
    "!ls -lh ./saved_model/*.engine"
   ]
  },
  {
   "cell_type": "code",
   "execution_count": 45,
   "metadata": {},
   "outputs": [
    {
     "name": "stdout",
     "output_type": "stream",
     "text": [
      "{'Profile 0': {'Binding 0': {'binding_dtype': DataType.FLOAT,\n",
      "                             'binding_index': 0,\n",
      "                             'binding_name': 'input',\n",
      "                             'binding_shape': (1, 1, 32000),\n",
      "                             'binding_type': 'INPUT',\n",
      "                             'profile': 0,\n",
      "                             'profile_shape': [(1, 1, 32000),\n",
      "                                               (1, 1, 32000),\n",
      "                                               (1, 1, 32000)]},\n",
      "               'Binding 1': {'binding_dtype': DataType.FLOAT,\n",
      "                             'binding_index': 1,\n",
      "                             'binding_name': 'output',\n",
      "                             'binding_shape': (1, 1, 3),\n",
      "                             'binding_type': 'OUTPUT',\n",
      "                             'profile': 0}}}\n",
      "Engine/Binding Metadata\n",
      "\tNumber of optimization profiles: 1\n",
      "\tNumber of bindings per profile: 2\n",
      "\tFirst binding for profile 0: 0\n",
      "\tLast binding for profile 0: 1\n",
      "Generating Random Inputs\n",
      "\tUsing random seed: 42\n",
      "\tInput [input] shape: (1, 1, 32000)\n"
     ]
    }
   ],
   "source": [
    "engine = load_engine('./saved_model/covid_fp16.engine')\n",
    "inspect_engine(engine)\n",
    "\n",
    "context = engine.create_execution_context()\n",
    "context.active_optimization_profile = 0\n",
    "\n",
    "input_binding_idxs, output_binding_idxs = get_binding_idxs(engine, context.active_optimization_profile)\n",
    "\n",
    "host_inputs = get_image_inputs(engine, context, input_binding_idxs)\n",
    "device_inputs = [cuda.mem_alloc(h_input.nbytes) for h_input in host_inputs]\n",
    "\n",
    "for h_input, d_input in zip(host_inputs, device_inputs):\n",
    "    cuda.memcpy_htod(d_input, h_input)\n",
    "\n",
    "# Placeholder for output buffers, will resize as necessary\n",
    "host_outputs, device_outputs = setup_binding_shapes(engine, context, host_inputs,\n",
    "                                                    input_binding_idxs, output_binding_idxs)\n",
    "bindings = device_inputs + device_outputs"
   ]
  },
  {
   "cell_type": "code",
   "execution_count": 48,
   "metadata": {},
   "outputs": [
    {
     "data": {
      "text/plain": [
       "'healthy'"
      ]
     },
     "execution_count": 48,
     "metadata": {},
     "output_type": "execute_result"
    }
   ],
   "source": [
    "result_trt_fp16 = get_trt_inference_outputs(context,healthy_np,host_outputs,device_inputs,device_outputs)\n",
    "trt_prediction(result_trt_fp16)"
   ]
  },
  {
   "cell_type": "code",
   "execution_count": 49,
   "metadata": {},
   "outputs": [
    {
     "data": {
      "text/plain": [
       "'covid_positive'"
      ]
     },
     "execution_count": 49,
     "metadata": {},
     "output_type": "execute_result"
    }
   ],
   "source": [
    "result_trt_fp16 = get_trt_inference_outputs(context,covid_np,host_outputs,device_inputs,device_outputs)\n",
    "trt_prediction(result_trt_fp16)"
   ]
  },
  {
   "cell_type": "markdown",
   "metadata": {},
   "source": [
    "### Profiling\n",
    "\n",
    "`nsys profile -y 0 -w true -t cudnn,cuda,osrt,nvtx -o Report.qdrep python run_inference.py`"
   ]
  }
 ],
 "metadata": {
  "kernelspec": {
   "display_name": "Python 3",
   "language": "python",
   "name": "python3"
  },
  "language_info": {
   "codemirror_mode": {
    "name": "ipython",
    "version": 3
   },
   "file_extension": ".py",
   "mimetype": "text/x-python",
   "name": "python",
   "nbconvert_exporter": "python",
   "pygments_lexer": "ipython3",
   "version": "3.6.10"
  }
 },
 "nbformat": 4,
 "nbformat_minor": 4
}
